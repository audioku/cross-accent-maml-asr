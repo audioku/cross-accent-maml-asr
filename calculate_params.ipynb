{
 "cells": [
  {
   "cell_type": "code",
   "execution_count": 30,
   "metadata": {},
   "outputs": [],
   "source": [
    "from utils.functions import init_transformer_model, compute_num_params\n",
    "from recordtype import recordtype\n",
    "from utils.data import Vocab"
   ]
  },
  {
   "cell_type": "code",
   "execution_count": 39,
   "metadata": {},
   "outputs": [],
   "source": [
    "args = {}\n",
    "args['feat_extractor'] = 'vgg_cnn'\n",
    "args['feat'] = 'spectrogram'\n",
    "args['num_enc_layers'] = 6\n",
    "args['num_dec_layers'] = 12\n",
    "args['num_heads'] = 4\n",
    "args['dim_model'] = 256\n",
    "args['dim_key'] = 64\n",
    "args['dim_value'] = 64\n",
    "args['dim_input'] = 1\n",
    "args['dim_inner'] = 2048\n",
    "args['dim_emb'] = 256\n",
    "args['src_max_len'] = 100\n",
    "args['tgt_max_len'] = 100\n",
    "args['dropout'] = 0.5\n",
    "args['sample_rate'] = 16000\n",
    "args['window_size'] = 0.2\n",
    "args['window_stride'] = 0.01\n",
    "args['emb_trg_sharing'] = 100\n",
    "\n",
    "args = recordtype('x',args.keys())(*args.values())"
   ]
  },
  {
   "cell_type": "code",
   "execution_count": 40,
   "metadata": {},
   "outputs": [],
   "source": [
    "vocab = Vocab()"
   ]
  },
  {
   "cell_type": "code",
   "execution_count": 41,
   "metadata": {},
   "outputs": [
    {
     "name": "stdout",
     "output_type": "stream",
     "text": [
      "feat extractor: vgg_cnn\n"
     ]
    }
   ],
   "source": [
    "model = init_transformer_model(args, vocab)"
   ]
  },
  {
   "cell_type": "code",
   "execution_count": 42,
   "metadata": {},
   "outputs": [
    {
     "name": "stdout",
     "output_type": "stream",
     "text": [
      "Parameters: 38484160(trainable), 0(non-trainable)\n"
     ]
    }
   ],
   "source": [
    "print(\"Parameters: {}(trainable), {}(non-trainable)\".format(compute_num_params(model)[0], compute_num_params(model)[1]))"
   ]
  },
  {
   "cell_type": "code",
   "execution_count": null,
   "metadata": {},
   "outputs": [],
   "source": []
  }
 ],
 "metadata": {
  "kernelspec": {
   "display_name": "Python 3",
   "language": "python",
   "name": "python3"
  },
  "language_info": {
   "codemirror_mode": {
    "name": "ipython",
    "version": 3
   },
   "file_extension": ".py",
   "mimetype": "text/x-python",
   "name": "python",
   "nbconvert_exporter": "python",
   "pygments_lexer": "ipython3",
   "version": "3.7.4"
  }
 },
 "nbformat": 4,
 "nbformat_minor": 4
}
