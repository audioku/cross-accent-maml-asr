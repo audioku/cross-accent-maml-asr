{
 "cells": [
  {
   "cell_type": "code",
   "execution_count": 1,
   "metadata": {},
   "outputs": [],
   "source": [
    "import os, sys\n",
    "import pandas as pd"
   ]
  },
  {
   "cell_type": "code",
   "execution_count": 2,
   "metadata": {},
   "outputs": [],
   "source": [
    "base_path = './data'\n",
    "manifest_path = '{}/manifests'.format(base_path)\n",
    "dataset_path = base_path"
   ]
  },
  {
   "cell_type": "code",
   "execution_count": 3,
   "metadata": {},
   "outputs": [],
   "source": [
    "for manifest_file in os.listdir(manifest_path):\n",
    "    df = pd.read_csv('{}/{}'.format(manifest_path, manifest_file), header=None)\n",
    "    df[0] = df[0].apply(lambda x: './' + x[x.index('data/'):])\n",
    "    df[1] = df[1].apply(lambda x: './' + x[x.index('data/'):])\n",
    "    df.to_csv(manifest_file, index=fal)\n",
    "    for col in df.columns:\n",
    "        split_path = df.loc[:,col].str.split('/')\n",
    "        split_file = list(split_path.apply(lambda x: x[-1]))\n",
    "        split_dir = split_path.apply(lambda x: '/'.join(x[:-1]))\n",
    "\n",
    "        for file in os.listdir(split_dir[0]):\n",
    "            if file not in split_file:\n",
    "                os.remove('{}/{}'.format(split_dir[0], file))"
   ]
  },
  {
   "cell_type": "code",
   "execution_count": 4,
   "metadata": {},
   "outputs": [
    {
     "data": {
      "text/html": [
       "<div>\n",
       "<style scoped>\n",
       "    .dataframe tbody tr th:only-of-type {\n",
       "        vertical-align: middle;\n",
       "    }\n",
       "\n",
       "    .dataframe tbody tr th {\n",
       "        vertical-align: top;\n",
       "    }\n",
       "\n",
       "    .dataframe thead th {\n",
       "        text-align: right;\n",
       "    }\n",
       "</style>\n",
       "<table border=\"1\" class=\"dataframe\">\n",
       "  <thead>\n",
       "    <tr style=\"text-align: right;\">\n",
       "      <th></th>\n",
       "      <th>0</th>\n",
       "      <th>1</th>\n",
       "    </tr>\n",
       "  </thead>\n",
       "  <tbody>\n",
       "    <tr>\n",
       "      <td>0</td>\n",
       "      <td>./data/LibriSpeech_dataset/test_other/wav/2414...</td>\n",
       "      <td>./data/LibriSpeech_dataset/test_other/txt/2414...</td>\n",
       "    </tr>\n",
       "    <tr>\n",
       "      <td>1</td>\n",
       "      <td>./data/LibriSpeech_dataset/test_other/wav/7902...</td>\n",
       "      <td>./data/LibriSpeech_dataset/test_other/txt/7902...</td>\n",
       "    </tr>\n",
       "    <tr>\n",
       "      <td>2</td>\n",
       "      <td>./data/LibriSpeech_dataset/test_other/wav/8188...</td>\n",
       "      <td>./data/LibriSpeech_dataset/test_other/txt/8188...</td>\n",
       "    </tr>\n",
       "    <tr>\n",
       "      <td>3</td>\n",
       "      <td>./data/LibriSpeech_dataset/test_other/wav/3538...</td>\n",
       "      <td>./data/LibriSpeech_dataset/test_other/txt/3538...</td>\n",
       "    </tr>\n",
       "    <tr>\n",
       "      <td>4</td>\n",
       "      <td>./data/LibriSpeech_dataset/test_other/wav/3528...</td>\n",
       "      <td>./data/LibriSpeech_dataset/test_other/txt/3528...</td>\n",
       "    </tr>\n",
       "    <tr>\n",
       "      <td>...</td>\n",
       "      <td>...</td>\n",
       "      <td>...</td>\n",
       "    </tr>\n",
       "    <tr>\n",
       "      <td>2934</td>\n",
       "      <td>./data/LibriSpeech_dataset/test_other/wav/2033...</td>\n",
       "      <td>./data/LibriSpeech_dataset/test_other/txt/2033...</td>\n",
       "    </tr>\n",
       "    <tr>\n",
       "      <td>2935</td>\n",
       "      <td>./data/LibriSpeech_dataset/test_other/wav/6070...</td>\n",
       "      <td>./data/LibriSpeech_dataset/test_other/txt/6070...</td>\n",
       "    </tr>\n",
       "    <tr>\n",
       "      <td>2936</td>\n",
       "      <td>./data/LibriSpeech_dataset/test_other/wav/6070...</td>\n",
       "      <td>./data/LibriSpeech_dataset/test_other/txt/6070...</td>\n",
       "    </tr>\n",
       "    <tr>\n",
       "      <td>2937</td>\n",
       "      <td>./data/LibriSpeech_dataset/test_other/wav/7018...</td>\n",
       "      <td>./data/LibriSpeech_dataset/test_other/txt/7018...</td>\n",
       "    </tr>\n",
       "    <tr>\n",
       "      <td>2938</td>\n",
       "      <td>./data/LibriSpeech_dataset/test_other/wav/4294...</td>\n",
       "      <td>./data/LibriSpeech_dataset/test_other/txt/4294...</td>\n",
       "    </tr>\n",
       "  </tbody>\n",
       "</table>\n",
       "<p>2939 rows × 2 columns</p>\n",
       "</div>"
      ],
      "text/plain": [
       "                                                      0  \\\n",
       "0     ./data/LibriSpeech_dataset/test_other/wav/2414...   \n",
       "1     ./data/LibriSpeech_dataset/test_other/wav/7902...   \n",
       "2     ./data/LibriSpeech_dataset/test_other/wav/8188...   \n",
       "3     ./data/LibriSpeech_dataset/test_other/wav/3538...   \n",
       "4     ./data/LibriSpeech_dataset/test_other/wav/3528...   \n",
       "...                                                 ...   \n",
       "2934  ./data/LibriSpeech_dataset/test_other/wav/2033...   \n",
       "2935  ./data/LibriSpeech_dataset/test_other/wav/6070...   \n",
       "2936  ./data/LibriSpeech_dataset/test_other/wav/6070...   \n",
       "2937  ./data/LibriSpeech_dataset/test_other/wav/7018...   \n",
       "2938  ./data/LibriSpeech_dataset/test_other/wav/4294...   \n",
       "\n",
       "                                                      1  \n",
       "0     ./data/LibriSpeech_dataset/test_other/txt/2414...  \n",
       "1     ./data/LibriSpeech_dataset/test_other/txt/7902...  \n",
       "2     ./data/LibriSpeech_dataset/test_other/txt/8188...  \n",
       "3     ./data/LibriSpeech_dataset/test_other/txt/3538...  \n",
       "4     ./data/LibriSpeech_dataset/test_other/txt/3528...  \n",
       "...                                                 ...  \n",
       "2934  ./data/LibriSpeech_dataset/test_other/txt/2033...  \n",
       "2935  ./data/LibriSpeech_dataset/test_other/txt/6070...  \n",
       "2936  ./data/LibriSpeech_dataset/test_other/txt/6070...  \n",
       "2937  ./data/LibriSpeech_dataset/test_other/txt/7018...  \n",
       "2938  ./data/LibriSpeech_dataset/test_other/txt/4294...  \n",
       "\n",
       "[2939 rows x 2 columns]"
      ]
     },
     "execution_count": 4,
     "metadata": {},
     "output_type": "execute_result"
    }
   ],
   "source": [
    "df"
   ]
  },
  {
   "cell_type": "code",
   "execution_count": null,
   "metadata": {},
   "outputs": [],
   "source": []
  }
 ],
 "metadata": {
  "kernelspec": {
   "display_name": "Python 3",
   "language": "python",
   "name": "python3"
  },
  "language_info": {
   "codemirror_mode": {
    "name": "ipython",
    "version": 3
   },
   "file_extension": ".py",
   "mimetype": "text/x-python",
   "name": "python",
   "nbconvert_exporter": "python",
   "pygments_lexer": "ipython3",
   "version": "3.7.4"
  }
 },
 "nbformat": 4,
 "nbformat_minor": 4
}
