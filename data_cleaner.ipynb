{
 "cells": [
  {
   "cell_type": "code",
   "execution_count": 1,
   "metadata": {},
   "outputs": [],
   "source": [
    "import os, sys\n",
    "import pandas as pd"
   ]
  },
  {
   "cell_type": "code",
   "execution_count": 2,
   "metadata": {},
   "outputs": [],
   "source": [
    "base_path = './data'\n",
    "manifest_path = '{}/manifests'.format(base_path)\n",
    "dataset_path = base_path"
   ]
  },
  {
   "cell_type": "code",
   "execution_count": 3,
   "metadata": {},
   "outputs": [],
   "source": [
    "for manifest_file in os.listdir(manifest_path):\n",
    "    df = pd.read_csv('{}/{}'.format(manifest_path, manifest_file), header=None)\n",
    "    for col in df.columns:\n",
    "        split_path = df.loc[:,col].str.split('/')\n",
    "        split_file = list(split_path.apply(lambda x: x[-1]))\n",
    "        split_dir = split_path.apply(lambda x: '/'.join(x[:-1]))\n",
    "\n",
    "        for file in os.listdir(split_dir[0]):\n",
    "            if file not in split_file:\n",
    "                os.remove('{}/{}'.format(split_dir[0], file))"
   ]
  },
  {
   "cell_type": "code",
   "execution_count": null,
   "metadata": {},
   "outputs": [],
   "source": []
  }
 ],
 "metadata": {
  "kernelspec": {
   "display_name": "Python 3",
   "language": "python",
   "name": "python3"
  },
  "language_info": {
   "codemirror_mode": {
    "name": "ipython",
    "version": 3
   },
   "file_extension": ".py",
   "mimetype": "text/x-python",
   "name": "python",
   "nbconvert_exporter": "python",
   "pygments_lexer": "ipython3",
   "version": "3.7.4"
  }
 },
 "nbformat": 4,
 "nbformat_minor": 4
}
