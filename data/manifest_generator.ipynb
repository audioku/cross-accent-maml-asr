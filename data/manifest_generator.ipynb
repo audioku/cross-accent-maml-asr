{
 "cells": [
  {
   "cell_type": "code",
   "execution_count": 1,
   "metadata": {},
   "outputs": [],
   "source": [
    "import os, sys\n",
    "import pandas as pd"
   ]
  },
  {
   "cell_type": "code",
   "execution_count": 2,
   "metadata": {},
   "outputs": [],
   "source": [
    "file_path = './CommonVoice2_dataset/validated.tsv'\n",
    "clips_path = './data/CommonVoice2_dataset/clips'\n",
    "manifest_path = './manifests'"
   ]
  },
  {
   "cell_type": "code",
   "execution_count": 3,
   "metadata": {},
   "outputs": [],
   "source": [
    "# Read data table\n",
    "df = pd.read_table(file_path)\n",
    "\n",
    "# Add prefix path to clips path\n",
    "df['path'] = df['path'].apply(lambda path: '{}/{}'.format(clips_path, path))\n",
    "\n",
    "# Filter unneccesary accent\n",
    "df.dropna(inplace=True)\n",
    "df = df[df['accent'] != 'other']\n",
    "\n",
    "# Save manifest per accent\n",
    "for accent in df['accent'].unique():\n",
    "    df.loc[df['accent'] == accent,['path','sentence']].to_csv('{}/cv_20190612_{}.csv'.format(manifest_path, accent), index=False, header=False)"
   ]
  },
  {
   "cell_type": "code",
   "execution_count": null,
   "metadata": {},
   "outputs": [],
   "source": []
  }
 ],
 "metadata": {
  "kernelspec": {
   "display_name": "Python 3",
   "language": "python",
   "name": "python3"
  },
  "language_info": {
   "codemirror_mode": {
    "name": "ipython",
    "version": 3
   },
   "file_extension": ".py",
   "mimetype": "text/x-python",
   "name": "python",
   "nbconvert_exporter": "python",
   "pygments_lexer": "ipython3",
   "version": "3.7.4"
  }
 },
 "nbformat": 4,
 "nbformat_minor": 4
}
