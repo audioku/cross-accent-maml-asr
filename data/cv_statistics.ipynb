{
 "cells": [
  {
   "cell_type": "markdown",
   "metadata": {},
   "source": [
    "# Insight\n",
    "- There are 780 total validated hours based on Mozilla (https://voice.mozilla.org/en/datasets)\n",
    "- Only 46.3% of the validated data contains demography information, which is around 350 hours\n",
    "- After filtering empty demography data, there are only less than 2 hours test data, 5 hours dev data, and 62 hours train data\n",
    "| dataset | # data | duration (hr) | # w/ demo | duration w/ demo (hr) |\n",
    "|------|------|------|------|------|\n",
    "| train | 63330 | - | 43922 | 62 |\n",
    "| dev | 13178 | - | 3619 | 5.24 |\n",
    "| test | 13178 | - | 1277 | 1.85 |\n",
    "| other | 173800 | ±210 | - | - |\n",
    "| invalidated | 78904 | ±90 | - | - |\n",
    "| validated | 644119 | 780 | 298721 | ±350 |"
   ]
  },
  {
   "cell_type": "code",
   "execution_count": 1,
   "metadata": {},
   "outputs": [],
   "source": [
    "import os, sys\n",
    "import librosa\n",
    "import pandas as pd"
   ]
  },
  {
   "cell_type": "code",
   "execution_count": 2,
   "metadata": {},
   "outputs": [],
   "source": [
    "base_path = './CommonVoice2_dataset'\n",
    "file_paths = [\n",
    "    'train.tsv',\n",
    "    'dev.tsv',\n",
    "    'test.tsv',\n",
    "    'other.tsv',\n",
    "    'invalidated.tsv',\n",
    "    'validated.tsv'\n",
    "]   "
   ]
  },
  {
   "cell_type": "code",
   "execution_count": 3,
   "metadata": {},
   "outputs": [
    {
     "name": "stdout",
     "output_type": "stream",
     "text": [
      "896823\n"
     ]
    }
   ],
   "source": [
    "!ls ./CommonVoice2_dataset/clips | wc -l"
   ]
  },
  {
   "cell_type": "code",
   "execution_count": 4,
   "metadata": {},
   "outputs": [
    {
     "name": "stdout",
     "output_type": "stream",
     "text": [
      "==train.tsv==\n",
      "df.shape (63330, 9)\n",
      "\n",
      "MISSING\n",
      "client_id         0\n",
      "path              0\n",
      "sentence          0\n",
      "up_votes          0\n",
      "down_votes        0\n",
      "age            7199\n",
      "gender         7073\n",
      "accent        18982\n",
      "file              0\n",
      "dtype: int64\n",
      "\n",
      "up_votes 11 [2, 3, 4, 5, 19, 7, 6, 8, 15, 20, 17]\n",
      "down_votes 5 [0, 1, 2, 3, 4]\n",
      "age 9 [nan, 'twenties', 'thirties', 'teens', 'sixties', 'fifties', 'fourties', 'seventies', 'nineties', 'eighties']\n",
      "gender 3 [nan, 'male', 'female', 'other']\n",
      "accent 15 [nan, 'us', 'england', 'hongkong', 'indian', 'african', 'australia', 'newzealand', 'canada', 'scotland', 'ireland', 'philippines', 'wales', 'singapore', 'malaysia', 'other']\n",
      "\n",
      "==dev.tsv==\n",
      "df.shape (13178, 9)\n",
      "\n",
      "MISSING\n",
      "client_id        0\n",
      "path             0\n",
      "sentence         0\n",
      "up_votes         0\n",
      "down_votes       0\n",
      "age           7886\n",
      "gender        7884\n",
      "accent        9494\n",
      "file             0\n",
      "dtype: int64\n",
      "\n",
      "up_votes 8 [2, 3, 4, 6, 8, 5, 86, 94]\n",
      "down_votes 6 [0, 1, 2, 3, 4, 6]\n",
      "age 8 [nan, 'thirties', 'twenties', 'teens', 'fourties', 'fifties', 'seventies', 'sixties', 'eighties']\n",
      "gender 3 [nan, 'male', 'female', 'other']\n",
      "accent 17 [nan, 'us', 'scotland', 'indian', 'other', 'england', 'newzealand', 'canada', 'philippines', 'ireland', 'wales', 'australia', 'malaysia', 'singapore', 'african', 'bermuda', 'southatlandtic', 'hongkong']\n",
      "\n",
      "==test.tsv==\n",
      "df.shape (13178, 9)\n",
      "\n",
      "MISSING\n",
      "client_id         0\n",
      "path              0\n",
      "sentence          1\n",
      "up_votes          0\n",
      "down_votes        0\n",
      "age           11261\n",
      "gender        11266\n",
      "accent        11867\n",
      "file              0\n",
      "dtype: int64\n",
      "\n",
      "up_votes 29 [2, 4, 3, 5, 10, 9, 23, 16, 6, 18, 28, 8, 17, 7, 12, 33, 22, 13, 19, 29, 21, 453, 14, 20, 45, 31, 40, 56, 26]\n",
      "down_votes 13 [1, 0, 3, 2, 4, 5, 6, 11, 16, 7, 15, 57, 17]\n",
      "age 9 [nan, 'thirties', 'twenties', 'seventies', 'fourties', 'teens', 'sixties', 'fifties', 'eighties', 'nineties']\n",
      "gender 3 [nan, 'male', 'female', 'other']\n",
      "accent 17 [nan, 'us', 'canada', 'england', 'indian', 'hongkong', 'african', 'wales', 'scotland', 'singapore', 'bermuda', 'other', 'australia', 'ireland', 'malaysia', 'philippines', 'newzealand', 'southatlandtic']\n",
      "\n",
      "==other.tsv==\n",
      "df.shape (173800, 9)\n",
      "\n",
      "MISSING\n",
      "client_id         0\n",
      "path              0\n",
      "sentence          0\n",
      "up_votes          0\n",
      "down_votes        0\n",
      "age           47306\n",
      "gender        47200\n",
      "accent        70987\n",
      "file              0\n",
      "dtype: int64\n",
      "\n",
      "up_votes 2 [1, 0]\n",
      "down_votes 2 [0, 1]\n",
      "age 9 ['twenties', nan, 'fourties', 'thirties', 'teens', 'fifties', 'sixties', 'seventies', 'eighties', 'nineties']\n",
      "gender 3 ['male', nan, 'female', 'other']\n",
      "accent 16 [nan, 'newzealand', 'us', 'ireland', 'indian', 'australia', 'england', 'canada', 'wales', 'african', 'other', 'hongkong', 'philippines', 'bermuda', 'singapore', 'malaysia', 'scotland']\n",
      "\n",
      "==invalidated.tsv==\n",
      "df.shape (78904, 9)\n",
      "\n",
      "MISSING\n",
      "client_id         0\n",
      "path              0\n",
      "sentence         96\n",
      "up_votes          0\n",
      "down_votes        0\n",
      "age           44787\n",
      "gender        44692\n",
      "accent        53375\n",
      "file              0\n",
      "dtype: int64\n",
      "\n",
      "up_votes 40 [14, 225, 33, 19, 13, 11, 22, 35, 38, 31, 25, 0, 2, 4, 3, 44, 46, 36, 26, 155, 1, 28, 6, 7, 9, 5, 27, 16, 12, 20, 10, 29, 17, 8, 15, 21, 24, 60, 18, 23]\n",
      "down_votes 76 [144, 3066, 850, 751, 42, 20, 12, 65, 44, 47, 46, 32, 67, 74, 7, 5, 4, 8, 6, 75, 60, 90, 919, 14, 10, 88, 33, 57, 40, 53, 39, 43, 66, 61, 52, 69, 48, 55, 77, 41, 49, 3, 28, 34, 36, 21, 15, 22, 45, 26, 79, 37, 25, 38, 30, 35, 29, 23, 11, 9, 13, 17, 246, 213, 257, 19, 16, 18, 31, 59, 24, 27, 2, 136, 103, 1]\n",
      "age 9 [nan, 'twenties', 'thirties', 'teens', 'seventies', 'fifties', 'fourties', 'sixties', 'eighties', 'nineties']\n",
      "gender 3 [nan, 'male', 'female', 'other']\n",
      "accent 17 [nan, 'england', 'us', 'indian', 'malaysia', 'african', 'canada', 'australia', 'philippines', 'hongkong', 'bermuda', 'newzealand', 'scotland', 'wales', 'ireland', 'singapore', 'other', 'southatlandtic']\n",
      "\n",
      "==validated.tsv==\n",
      "df.shape (644119, 9)\n",
      "\n",
      "MISSING\n",
      "client_id          0\n",
      "path               0\n",
      "sentence           6\n",
      "up_votes           0\n",
      "down_votes         0\n",
      "age           275101\n",
      "gender        273074\n",
      "accent        340000\n",
      "file               0\n",
      "dtype: int64\n",
      "\n",
      "up_votes 199 [2, 4, 3, 5, 10, 9, 23, 6, 16, 18, 28, 8, 17, 7, 12, 33, 22, 36, 13, 19, 30, 32, 29, 40, 52, 37, 21, 11, 14, 453, 398, 15, 24, 48, 46, 27, 34, 20, 45, 25, 31, 70, 57, 26, 41, 42, 39, 68, 69, 56, 1162, 414, 457, 38, 1218, 745, 1114, 35, 281, 214, 236, 49, 44, 47, 54, 50, 134, 136, 165, 55, 43, 88, 73, 95, 72, 63, 93, 107, 118, 106, 98, 99, 96, 117, 240, 203, 234, 220, 224, 231, 230, 208, 198, 124, 166, 151, 133, 127, 131, 137, 65, 62, 59, 60, 53, 58, 856, 1044, 430, 356, 352, 367, 321, 360, 348, 343, 116, 103, 51, 86, 80, 82, 83, 94, 64, 61, 123, 146, 119, 132, 148, 92, 109, 159, 129, 110, 114, 130, 75, 90, 78, 74, 76, 71, 77, 141, 150, 135, 112, 140, 126, 120, 97, 113, 102, 100, 143, 125, 1614, 1399, 1185, 1048, 974, 839, 762, 718, 700, 622, 644, 560, 451, 505, 357, 495, 450, 381, 364, 374, 431, 402, 316, 375, 335, 301, 308, 324, 302, 320, 271, 290, 295, 255, 277, 251, 237, 249, 227, 254, 258]\n",
      "down_votes 57 [1, 0, 3, 2, 4, 5, 9, 6, 19, 11, 16, 7, 13, 27, 30, 15, 10, 57, 55, 18, 21, 17, 8, 97, 34, 40, 529, 145, 26, 73, 81, 37, 33, 53, 52, 46, 12, 14, 43, 44, 28, 219, 20, 23, 29, 42, 36, 59, 24, 77, 49, 22, 96, 131, 38, 88, 47]\n",
      "age 9 [nan, 'thirties', 'twenties', 'seventies', 'fourties', 'teens', 'sixties', 'fifties', 'eighties', 'nineties']\n",
      "gender 3 [nan, 'male', 'female', 'other']\n",
      "accent 17 [nan, 'us', 'canada', 'england', 'indian', 'hongkong', 'african', 'wales', 'scotland', 'singapore', 'bermuda', 'other', 'australia', 'ireland', 'malaysia', 'philippines', 'newzealand', 'southatlandtic']\n",
      "\n",
      "all shape (896823, 9)\n"
     ]
    }
   ],
   "source": [
    "dfs = []\n",
    "for file_path in file_paths:\n",
    "    df = pd.read_table('{}/{}'.format(base_path, file_path))\n",
    "    dfs.append(df)\n",
    "    df['file'] = file_path\n",
    "    print('=={}=='.format(file_path))\n",
    "    print('df.shape', df.shape)\n",
    "    print()\n",
    "    print('MISSING')\n",
    "    print(df.isna().sum())\n",
    "    print()\n",
    "    print('up_votes', df['up_votes'].nunique(), df['up_votes'].unique().tolist())\n",
    "    print('down_votes', df['down_votes'].nunique(), df['down_votes'].unique().tolist())\n",
    "    print('age', df['age'].nunique(), df['age'].unique().tolist())\n",
    "    print('gender', df['gender'].nunique(), df['gender'].unique().tolist())\n",
    "    print('accent', df['accent'].nunique(), df['accent'].unique().tolist())\n",
    "    print()\n",
    "df = pd.concat(dfs)\n",
    "print('all shape', df[df['file'].isin(['other.tsv', 'invalidated.tsv','validated.tsv'])].shape)"
   ]
  },
  {
   "cell_type": "code",
   "execution_count": 5,
   "metadata": {},
   "outputs": [
    {
     "name": "stdout",
     "output_type": "stream",
     "text": [
      "63330\n",
      "0\n",
      "0\n"
     ]
    }
   ],
   "source": [
    "print((df[df['file'] == 'train.tsv'].path.isin(df[df['file'] == 'validated.tsv'].path)).sum())\n",
    "print((df[df['file'] == 'train.tsv'].path.isin(df[df['file'] == 'invalidated.tsv'].path)).sum())\n",
    "print((df[df['file'] == 'train.tsv'].path.isin(df[df['file'] == 'other.tsv'].path)).sum())"
   ]
  },
  {
   "cell_type": "code",
   "execution_count": 6,
   "metadata": {},
   "outputs": [
    {
     "name": "stdout",
     "output_type": "stream",
     "text": [
      "13178\n",
      "0\n",
      "0\n"
     ]
    }
   ],
   "source": [
    "print((df[df['file'] == 'dev.tsv'].path.isin(df[df['file'] == 'validated.tsv'].path)).sum())\n",
    "print((df[df['file'] == 'dev.tsv'].path.isin(df[df['file'] == 'invalidated.tsv'].path)).sum())\n",
    "print((df[df['file'] == 'dev.tsv'].path.isin(df[df['file'] == 'other.tsv'].path)).sum())"
   ]
  },
  {
   "cell_type": "code",
   "execution_count": 7,
   "metadata": {},
   "outputs": [
    {
     "name": "stdout",
     "output_type": "stream",
     "text": [
      "13178\n",
      "0\n",
      "0\n"
     ]
    }
   ],
   "source": [
    "print((df[df['file'] == 'test.tsv'].path.isin(df[df['file'] == 'validated.tsv'].path)).sum())\n",
    "print((df[df['file'] == 'test.tsv'].path.isin(df[df['file'] == 'invalidated.tsv'].path)).sum())\n",
    "print((df[df['file'] == 'test.tsv'].path.isin(df[df['file'] == 'other.tsv'].path)).sum())"
   ]
  },
  {
   "cell_type": "code",
   "execution_count": 8,
   "metadata": {},
   "outputs": [
    {
     "name": "stdout",
     "output_type": "stream",
     "text": [
      "(298721, 9)\n"
     ]
    }
   ],
   "source": [
    "print(df[df['file'] == 'validated.tsv'].dropna().shape)"
   ]
  },
  {
   "cell_type": "code",
   "execution_count": 9,
   "metadata": {},
   "outputs": [
    {
     "name": "stdout",
     "output_type": "stream",
     "text": [
      "(43922, 9)\n",
      "(3619, 9)\n",
      "(1277, 9)\n"
     ]
    }
   ],
   "source": [
    "print(df[df['file'] == 'train.tsv'].dropna().shape)\n",
    "print(df[df['file'] == 'dev.tsv'].dropna().shape)\n",
    "print(df[df['file'] == 'test.tsv'].dropna().shape)"
   ]
  },
  {
   "cell_type": "code",
   "execution_count": 10,
   "metadata": {},
   "outputs": [],
   "source": [
    "yes_df = df[df['file'] == 'validated.tsv'].dropna()"
   ]
  },
  {
   "cell_type": "code",
   "execution_count": 11,
   "metadata": {},
   "outputs": [],
   "source": [
    "def print_accent_age_gender(yes_df):\n",
    "    print(yes_df.accent.nunique(), yes_df.age.nunique(), yes_df.gender.nunique())\n",
    "    print(yes_df.groupby('accent').size() / yes_df.shape[0] * 100)\n",
    "    print(yes_df.groupby('age').size() / yes_df.shape[0] * 100)\n",
    "    print(yes_df.groupby('gender').size() / yes_df.shape[0] * 100)"
   ]
  },
  {
   "cell_type": "code",
   "execution_count": 12,
   "metadata": {},
   "outputs": [
    {
     "name": "stdout",
     "output_type": "stream",
     "text": [
      "17 9 3\n",
      "accent\n",
      "african            1.360802\n",
      "australia          6.569675\n",
      "bermuda            0.121518\n",
      "canada             5.832198\n",
      "england           19.508839\n",
      "hongkong           0.395352\n",
      "indian             7.993412\n",
      "ireland            1.144881\n",
      "malaysia           0.282203\n",
      "newzealand         2.031996\n",
      "other              3.400497\n",
      "philippines        0.441214\n",
      "scotland           1.464912\n",
      "singapore          0.231989\n",
      "southatlandtic     0.070969\n",
      "us                48.771931\n",
      "wales              0.377610\n",
      "dtype: float64\n",
      "age\n",
      "eighties      0.215251\n",
      "fifties       9.295630\n",
      "fourties     15.359148\n",
      "nineties      0.018747\n",
      "seventies     1.379213\n",
      "sixties       7.653630\n",
      "teens         7.585674\n",
      "thirties     27.346922\n",
      "twenties     31.145785\n",
      "dtype: float64\n",
      "gender\n",
      "female    19.910887\n",
      "male      77.706623\n",
      "other      2.382491\n",
      "dtype: float64\n"
     ]
    }
   ],
   "source": [
    "print_accent_age_gender(df[df['file'] == 'validated.tsv'].dropna())"
   ]
  },
  {
   "cell_type": "code",
   "execution_count": 13,
   "metadata": {},
   "outputs": [
    {
     "name": "stdout",
     "output_type": "stream",
     "text": [
      "15 9 3\n",
      "accent\n",
      "african         1.006329\n",
      "australia       8.626656\n",
      "canada          7.178635\n",
      "england        11.898365\n",
      "hongkong        0.045535\n",
      "indian         10.372934\n",
      "ireland         0.585128\n",
      "malaysia        0.259551\n",
      "newzealand      1.331907\n",
      "other           0.257274\n",
      "philippines     0.733118\n",
      "scotland        0.853786\n",
      "singapore       0.669368\n",
      "us             56.174582\n",
      "wales           0.006830\n",
      "dtype: float64\n",
      "age\n",
      "eighties      0.443969\n",
      "fifties       7.970948\n",
      "fourties     11.224443\n",
      "nineties      0.120668\n",
      "seventies     1.395656\n",
      "sixties      18.878922\n",
      "teens         8.458176\n",
      "thirties     20.584217\n",
      "twenties     30.923000\n",
      "dtype: float64\n",
      "gender\n",
      "female    15.725604\n",
      "male      81.155230\n",
      "other      3.119166\n",
      "dtype: float64\n"
     ]
    }
   ],
   "source": [
    "print_accent_age_gender(df[df['file'] == 'train.tsv'].dropna())"
   ]
  },
  {
   "cell_type": "code",
   "execution_count": 14,
   "metadata": {},
   "outputs": [
    {
     "name": "stdout",
     "output_type": "stream",
     "text": [
      "17 8 3\n",
      "accent\n",
      "african            1.353965\n",
      "australia          2.735562\n",
      "bermuda            0.303951\n",
      "canada             6.797458\n",
      "england           12.600166\n",
      "hongkong           0.663167\n",
      "indian            13.733075\n",
      "ireland            1.132910\n",
      "malaysia           0.994750\n",
      "newzealand         0.856590\n",
      "other              1.436861\n",
      "philippines        1.464493\n",
      "scotland           0.221056\n",
      "singapore          1.132910\n",
      "southatlandtic     0.055264\n",
      "us                53.605968\n",
      "wales              0.911854\n",
      "dtype: float64\n",
      "age\n",
      "eighties      0.055264\n",
      "fifties       6.769826\n",
      "fourties     10.638298\n",
      "seventies     1.353965\n",
      "sixties       2.569771\n",
      "teens        12.931749\n",
      "thirties     22.271346\n",
      "twenties     43.409782\n",
      "dtype: float64\n",
      "gender\n",
      "female    14.562034\n",
      "male      84.056369\n",
      "other      1.381597\n",
      "dtype: float64\n"
     ]
    }
   ],
   "source": [
    "print_accent_age_gender(df[df['file'] == 'dev.tsv'].dropna())"
   ]
  },
  {
   "cell_type": "code",
   "execution_count": 15,
   "metadata": {},
   "outputs": [
    {
     "name": "stdout",
     "output_type": "stream",
     "text": [
      "17 9 3\n",
      "accent\n",
      "african            1.957713\n",
      "australia          1.566171\n",
      "bermuda            0.783085\n",
      "canada             4.463587\n",
      "england           12.059514\n",
      "hongkong           0.861394\n",
      "indian            22.552858\n",
      "ireland            1.487862\n",
      "malaysia           0.861394\n",
      "newzealand         0.861394\n",
      "other              2.584182\n",
      "philippines        0.783085\n",
      "scotland           0.861394\n",
      "singapore          0.156617\n",
      "southatlandtic     0.234926\n",
      "us                47.611590\n",
      "wales              0.313234\n",
      "dtype: float64\n",
      "age\n",
      "eighties      0.234926\n",
      "fifties       6.186374\n",
      "fourties      9.710258\n",
      "nineties      0.078309\n",
      "seventies     1.018011\n",
      "sixties       2.584182\n",
      "teens        12.607674\n",
      "thirties     21.221613\n",
      "twenties     46.358653\n",
      "dtype: float64\n",
      "gender\n",
      "female    14.565388\n",
      "male      84.886453\n",
      "other      0.548160\n",
      "dtype: float64\n"
     ]
    }
   ],
   "source": [
    "print_accent_age_gender(df[df['file'] == 'test.tsv'].dropna())"
   ]
  },
  {
   "cell_type": "code",
   "execution_count": 16,
   "metadata": {},
   "outputs": [],
   "source": [
    "train_df = df[df['file'] == 'train.tsv'].dropna()\n",
    "dev_df = df[df['file'] == 'dev.tsv'].dropna()\n",
    "test_df = df[df['file'] == 'test.tsv'].dropna()\n",
    "validated_df = df[df['file'] == 'validated.tsv'].dropna()"
   ]
  },
  {
   "cell_type": "code",
   "execution_count": 19,
   "metadata": {},
   "outputs": [
    {
     "name": "stdout",
     "output_type": "stream",
     "text": [
      "file_name dev.tsv\n",
      "dev duration : 18853.099999999984\n",
      "file_name test.tsv\n",
      "test duration : 6656.399999999999\n",
      "file_name train.tsv\n",
      "train duration : 223320.9999999992\n",
      "file_name validated.tsv\n"
     ]
    },
    {
     "ename": "EOFError",
     "evalue": "",
     "output_type": "error",
     "traceback": [
      "\u001b[0;31m---------------------------------------------------------------------------\u001b[0m",
      "\u001b[0;31mRuntimeError\u001b[0m                              Traceback (most recent call last)",
      "\u001b[0;32m~/anaconda3/envs/env_py3.7/lib/python3.7/site-packages/librosa/core/audio.py\u001b[0m in \u001b[0;36mget_duration\u001b[0;34m(y, sr, S, n_fft, hop_length, center, filename)\u001b[0m\n\u001b[1;32m    625\u001b[0m         \u001b[0;32mtry\u001b[0m\u001b[0;34m:\u001b[0m\u001b[0;34m\u001b[0m\u001b[0;34m\u001b[0m\u001b[0m\n\u001b[0;32m--> 626\u001b[0;31m             \u001b[0;32mreturn\u001b[0m \u001b[0msf\u001b[0m\u001b[0;34m.\u001b[0m\u001b[0minfo\u001b[0m\u001b[0;34m(\u001b[0m\u001b[0mfilename\u001b[0m\u001b[0;34m)\u001b[0m\u001b[0;34m.\u001b[0m\u001b[0mduration\u001b[0m\u001b[0;34m\u001b[0m\u001b[0;34m\u001b[0m\u001b[0m\n\u001b[0m\u001b[1;32m    627\u001b[0m         \u001b[0;32mexcept\u001b[0m \u001b[0mRuntimeError\u001b[0m\u001b[0;34m:\u001b[0m\u001b[0;34m\u001b[0m\u001b[0;34m\u001b[0m\u001b[0m\n",
      "\u001b[0;32m~/anaconda3/envs/env_py3.7/lib/python3.7/site-packages/soundfile.py\u001b[0m in \u001b[0;36minfo\u001b[0;34m(file, verbose)\u001b[0m\n\u001b[1;32m    437\u001b[0m     \"\"\"\n\u001b[0;32m--> 438\u001b[0;31m     \u001b[0;32mreturn\u001b[0m \u001b[0m_SoundFileInfo\u001b[0m\u001b[0;34m(\u001b[0m\u001b[0mfile\u001b[0m\u001b[0;34m,\u001b[0m \u001b[0mverbose\u001b[0m\u001b[0;34m)\u001b[0m\u001b[0;34m\u001b[0m\u001b[0;34m\u001b[0m\u001b[0m\n\u001b[0m\u001b[1;32m    439\u001b[0m \u001b[0;34m\u001b[0m\u001b[0m\n",
      "\u001b[0;32m~/anaconda3/envs/env_py3.7/lib/python3.7/site-packages/soundfile.py\u001b[0m in \u001b[0;36m__init__\u001b[0;34m(self, file, verbose)\u001b[0m\n\u001b[1;32m    382\u001b[0m         \u001b[0mself\u001b[0m\u001b[0;34m.\u001b[0m\u001b[0mverbose\u001b[0m \u001b[0;34m=\u001b[0m \u001b[0mverbose\u001b[0m\u001b[0;34m\u001b[0m\u001b[0;34m\u001b[0m\u001b[0m\n\u001b[0;32m--> 383\u001b[0;31m         \u001b[0;32mwith\u001b[0m \u001b[0mSoundFile\u001b[0m\u001b[0;34m(\u001b[0m\u001b[0mfile\u001b[0m\u001b[0;34m)\u001b[0m \u001b[0;32mas\u001b[0m \u001b[0mf\u001b[0m\u001b[0;34m:\u001b[0m\u001b[0;34m\u001b[0m\u001b[0;34m\u001b[0m\u001b[0m\n\u001b[0m\u001b[1;32m    384\u001b[0m             \u001b[0mself\u001b[0m\u001b[0;34m.\u001b[0m\u001b[0mname\u001b[0m \u001b[0;34m=\u001b[0m \u001b[0mf\u001b[0m\u001b[0;34m.\u001b[0m\u001b[0mname\u001b[0m\u001b[0;34m\u001b[0m\u001b[0;34m\u001b[0m\u001b[0m\n",
      "\u001b[0;32m~/anaconda3/envs/env_py3.7/lib/python3.7/site-packages/soundfile.py\u001b[0m in \u001b[0;36m__init__\u001b[0;34m(self, file, mode, samplerate, channels, subtype, endian, format, closefd)\u001b[0m\n\u001b[1;32m    628\u001b[0m                                          format, subtype, endian)\n\u001b[0;32m--> 629\u001b[0;31m         \u001b[0mself\u001b[0m\u001b[0;34m.\u001b[0m\u001b[0m_file\u001b[0m \u001b[0;34m=\u001b[0m \u001b[0mself\u001b[0m\u001b[0;34m.\u001b[0m\u001b[0m_open\u001b[0m\u001b[0;34m(\u001b[0m\u001b[0mfile\u001b[0m\u001b[0;34m,\u001b[0m \u001b[0mmode_int\u001b[0m\u001b[0;34m,\u001b[0m \u001b[0mclosefd\u001b[0m\u001b[0;34m)\u001b[0m\u001b[0;34m\u001b[0m\u001b[0;34m\u001b[0m\u001b[0m\n\u001b[0m\u001b[1;32m    630\u001b[0m         \u001b[0;32mif\u001b[0m \u001b[0mset\u001b[0m\u001b[0;34m(\u001b[0m\u001b[0mmode\u001b[0m\u001b[0;34m)\u001b[0m\u001b[0;34m.\u001b[0m\u001b[0missuperset\u001b[0m\u001b[0;34m(\u001b[0m\u001b[0;34m'r+'\u001b[0m\u001b[0;34m)\u001b[0m \u001b[0;32mand\u001b[0m \u001b[0mself\u001b[0m\u001b[0;34m.\u001b[0m\u001b[0mseekable\u001b[0m\u001b[0;34m(\u001b[0m\u001b[0;34m)\u001b[0m\u001b[0;34m:\u001b[0m\u001b[0;34m\u001b[0m\u001b[0;34m\u001b[0m\u001b[0m\n",
      "\u001b[0;32m~/anaconda3/envs/env_py3.7/lib/python3.7/site-packages/soundfile.py\u001b[0m in \u001b[0;36m_open\u001b[0;34m(self, file, mode_int, closefd)\u001b[0m\n\u001b[1;32m   1183\u001b[0m         _error_check(_snd.sf_error(file_ptr),\n\u001b[0;32m-> 1184\u001b[0;31m                      \"Error opening {0!r}: \".format(self.name))\n\u001b[0m\u001b[1;32m   1185\u001b[0m         \u001b[0;32mif\u001b[0m \u001b[0mmode_int\u001b[0m \u001b[0;34m==\u001b[0m \u001b[0m_snd\u001b[0m\u001b[0;34m.\u001b[0m\u001b[0mSFM_WRITE\u001b[0m\u001b[0;34m:\u001b[0m\u001b[0;34m\u001b[0m\u001b[0;34m\u001b[0m\u001b[0m\n",
      "\u001b[0;32m~/anaconda3/envs/env_py3.7/lib/python3.7/site-packages/soundfile.py\u001b[0m in \u001b[0;36m_error_check\u001b[0;34m(err, prefix)\u001b[0m\n\u001b[1;32m   1356\u001b[0m         \u001b[0merr_str\u001b[0m \u001b[0;34m=\u001b[0m \u001b[0m_snd\u001b[0m\u001b[0;34m.\u001b[0m\u001b[0msf_error_number\u001b[0m\u001b[0;34m(\u001b[0m\u001b[0merr\u001b[0m\u001b[0;34m)\u001b[0m\u001b[0;34m\u001b[0m\u001b[0;34m\u001b[0m\u001b[0m\n\u001b[0;32m-> 1357\u001b[0;31m         \u001b[0;32mraise\u001b[0m \u001b[0mRuntimeError\u001b[0m\u001b[0;34m(\u001b[0m\u001b[0mprefix\u001b[0m \u001b[0;34m+\u001b[0m \u001b[0m_ffi\u001b[0m\u001b[0;34m.\u001b[0m\u001b[0mstring\u001b[0m\u001b[0;34m(\u001b[0m\u001b[0merr_str\u001b[0m\u001b[0;34m)\u001b[0m\u001b[0;34m.\u001b[0m\u001b[0mdecode\u001b[0m\u001b[0;34m(\u001b[0m\u001b[0;34m'utf-8'\u001b[0m\u001b[0;34m,\u001b[0m \u001b[0;34m'replace'\u001b[0m\u001b[0;34m)\u001b[0m\u001b[0;34m)\u001b[0m\u001b[0;34m\u001b[0m\u001b[0;34m\u001b[0m\u001b[0m\n\u001b[0m\u001b[1;32m   1358\u001b[0m \u001b[0;34m\u001b[0m\u001b[0m\n",
      "\u001b[0;31mRuntimeError\u001b[0m: Error opening './CommonVoice2_dataset/clips/common_voice_en_18406522.mp3': File contains data in an unknown format.",
      "\nDuring handling of the above exception, another exception occurred:\n",
      "\u001b[0;31mEOFError\u001b[0m                                  Traceback (most recent call last)",
      "\u001b[0;32m<ipython-input-19-79666a0cd8a7>\u001b[0m in \u001b[0;36m<module>\u001b[0;34m\u001b[0m\n\u001b[1;32m     10\u001b[0m     \u001b[0mtotal_duration\u001b[0m \u001b[0;34m=\u001b[0m \u001b[0;36m0\u001b[0m\u001b[0;34m\u001b[0m\u001b[0;34m\u001b[0m\u001b[0m\n\u001b[1;32m     11\u001b[0m     \u001b[0;32mfor\u001b[0m \u001b[0mpath\u001b[0m \u001b[0;32min\u001b[0m \u001b[0mdf\u001b[0m\u001b[0;34m.\u001b[0m\u001b[0mpath\u001b[0m\u001b[0;34m:\u001b[0m\u001b[0;34m\u001b[0m\u001b[0;34m\u001b[0m\u001b[0m\n\u001b[0;32m---> 12\u001b[0;31m         \u001b[0mduration\u001b[0m \u001b[0;34m=\u001b[0m \u001b[0mlibrosa\u001b[0m\u001b[0;34m.\u001b[0m\u001b[0mget_duration\u001b[0m\u001b[0;34m(\u001b[0m\u001b[0mfilename\u001b[0m\u001b[0;34m=\u001b[0m\u001b[0;34m'{}/clips/{}'\u001b[0m\u001b[0;34m.\u001b[0m\u001b[0mformat\u001b[0m\u001b[0;34m(\u001b[0m\u001b[0mbase_path\u001b[0m\u001b[0;34m,\u001b[0m\u001b[0mpath\u001b[0m\u001b[0;34m)\u001b[0m\u001b[0;34m)\u001b[0m\u001b[0;34m\u001b[0m\u001b[0;34m\u001b[0m\u001b[0m\n\u001b[0m\u001b[1;32m     13\u001b[0m         \u001b[0mtotal_duration\u001b[0m \u001b[0;34m+=\u001b[0m \u001b[0mduration\u001b[0m\u001b[0;34m\u001b[0m\u001b[0;34m\u001b[0m\u001b[0m\n\u001b[1;32m     14\u001b[0m         \u001b[0mdata\u001b[0m\u001b[0;34m[\u001b[0m\u001b[0;34m'path'\u001b[0m\u001b[0;34m]\u001b[0m\u001b[0;34m.\u001b[0m\u001b[0mappend\u001b[0m\u001b[0;34m(\u001b[0m\u001b[0mpath\u001b[0m\u001b[0;34m)\u001b[0m\u001b[0;34m\u001b[0m\u001b[0;34m\u001b[0m\u001b[0m\n",
      "\u001b[0;32m~/anaconda3/envs/env_py3.7/lib/python3.7/site-packages/librosa/core/audio.py\u001b[0m in \u001b[0;36mget_duration\u001b[0;34m(y, sr, S, n_fft, hop_length, center, filename)\u001b[0m\n\u001b[1;32m    626\u001b[0m             \u001b[0;32mreturn\u001b[0m \u001b[0msf\u001b[0m\u001b[0;34m.\u001b[0m\u001b[0minfo\u001b[0m\u001b[0;34m(\u001b[0m\u001b[0mfilename\u001b[0m\u001b[0;34m)\u001b[0m\u001b[0;34m.\u001b[0m\u001b[0mduration\u001b[0m\u001b[0;34m\u001b[0m\u001b[0;34m\u001b[0m\u001b[0m\n\u001b[1;32m    627\u001b[0m         \u001b[0;32mexcept\u001b[0m \u001b[0mRuntimeError\u001b[0m\u001b[0;34m:\u001b[0m\u001b[0;34m\u001b[0m\u001b[0;34m\u001b[0m\u001b[0m\n\u001b[0;32m--> 628\u001b[0;31m             \u001b[0;32mwith\u001b[0m \u001b[0maudioread\u001b[0m\u001b[0;34m.\u001b[0m\u001b[0maudio_open\u001b[0m\u001b[0;34m(\u001b[0m\u001b[0mfilename\u001b[0m\u001b[0;34m)\u001b[0m \u001b[0;32mas\u001b[0m \u001b[0mfdesc\u001b[0m\u001b[0;34m:\u001b[0m\u001b[0;34m\u001b[0m\u001b[0;34m\u001b[0m\u001b[0m\n\u001b[0m\u001b[1;32m    629\u001b[0m                 \u001b[0;32mreturn\u001b[0m \u001b[0mfdesc\u001b[0m\u001b[0;34m.\u001b[0m\u001b[0mduration\u001b[0m\u001b[0;34m\u001b[0m\u001b[0;34m\u001b[0m\u001b[0m\n\u001b[1;32m    630\u001b[0m \u001b[0;34m\u001b[0m\u001b[0m\n",
      "\u001b[0;32m~/anaconda3/envs/env_py3.7/lib/python3.7/site-packages/audioread/__init__.py\u001b[0m in \u001b[0;36maudio_open\u001b[0;34m(path, backends)\u001b[0m\n\u001b[1;32m    109\u001b[0m     \u001b[0;32mfor\u001b[0m \u001b[0mBackendClass\u001b[0m \u001b[0;32min\u001b[0m \u001b[0mbackends\u001b[0m\u001b[0;34m:\u001b[0m\u001b[0;34m\u001b[0m\u001b[0;34m\u001b[0m\u001b[0m\n\u001b[1;32m    110\u001b[0m         \u001b[0;32mtry\u001b[0m\u001b[0;34m:\u001b[0m\u001b[0;34m\u001b[0m\u001b[0;34m\u001b[0m\u001b[0m\n\u001b[0;32m--> 111\u001b[0;31m             \u001b[0;32mreturn\u001b[0m \u001b[0mBackendClass\u001b[0m\u001b[0;34m(\u001b[0m\u001b[0mpath\u001b[0m\u001b[0;34m)\u001b[0m\u001b[0;34m\u001b[0m\u001b[0;34m\u001b[0m\u001b[0m\n\u001b[0m\u001b[1;32m    112\u001b[0m         \u001b[0;32mexcept\u001b[0m \u001b[0mDecodeError\u001b[0m\u001b[0;34m:\u001b[0m\u001b[0;34m\u001b[0m\u001b[0;34m\u001b[0m\u001b[0m\n\u001b[1;32m    113\u001b[0m             \u001b[0;32mpass\u001b[0m\u001b[0;34m\u001b[0m\u001b[0;34m\u001b[0m\u001b[0m\n",
      "\u001b[0;32m~/anaconda3/envs/env_py3.7/lib/python3.7/site-packages/audioread/rawread.py\u001b[0m in \u001b[0;36m__init__\u001b[0;34m(self, filename)\u001b[0m\n\u001b[1;32m     63\u001b[0m \u001b[0;34m\u001b[0m\u001b[0m\n\u001b[1;32m     64\u001b[0m         \u001b[0;32mtry\u001b[0m\u001b[0;34m:\u001b[0m\u001b[0;34m\u001b[0m\u001b[0;34m\u001b[0m\u001b[0m\n\u001b[0;32m---> 65\u001b[0;31m             \u001b[0mself\u001b[0m\u001b[0;34m.\u001b[0m\u001b[0m_file\u001b[0m \u001b[0;34m=\u001b[0m \u001b[0maifc\u001b[0m\u001b[0;34m.\u001b[0m\u001b[0mopen\u001b[0m\u001b[0;34m(\u001b[0m\u001b[0mself\u001b[0m\u001b[0;34m.\u001b[0m\u001b[0m_fh\u001b[0m\u001b[0;34m)\u001b[0m\u001b[0;34m\u001b[0m\u001b[0;34m\u001b[0m\u001b[0m\n\u001b[0m\u001b[1;32m     66\u001b[0m         \u001b[0;32mexcept\u001b[0m \u001b[0maifc\u001b[0m\u001b[0;34m.\u001b[0m\u001b[0mError\u001b[0m\u001b[0;34m:\u001b[0m\u001b[0;34m\u001b[0m\u001b[0;34m\u001b[0m\u001b[0m\n\u001b[1;32m     67\u001b[0m             \u001b[0;31m# Return to the beginning of the file to try the next reader.\u001b[0m\u001b[0;34m\u001b[0m\u001b[0;34m\u001b[0m\u001b[0;34m\u001b[0m\u001b[0m\n",
      "\u001b[0;32m~/anaconda3/envs/env_py3.7/lib/python3.7/aifc.py\u001b[0m in \u001b[0;36mopen\u001b[0;34m(f, mode)\u001b[0m\n\u001b[1;32m    915\u001b[0m             \u001b[0mmode\u001b[0m \u001b[0;34m=\u001b[0m \u001b[0;34m'rb'\u001b[0m\u001b[0;34m\u001b[0m\u001b[0;34m\u001b[0m\u001b[0m\n\u001b[1;32m    916\u001b[0m     \u001b[0;32mif\u001b[0m \u001b[0mmode\u001b[0m \u001b[0;32min\u001b[0m \u001b[0;34m(\u001b[0m\u001b[0;34m'r'\u001b[0m\u001b[0;34m,\u001b[0m \u001b[0;34m'rb'\u001b[0m\u001b[0;34m)\u001b[0m\u001b[0;34m:\u001b[0m\u001b[0;34m\u001b[0m\u001b[0;34m\u001b[0m\u001b[0m\n\u001b[0;32m--> 917\u001b[0;31m         \u001b[0;32mreturn\u001b[0m \u001b[0mAifc_read\u001b[0m\u001b[0;34m(\u001b[0m\u001b[0mf\u001b[0m\u001b[0;34m)\u001b[0m\u001b[0;34m\u001b[0m\u001b[0;34m\u001b[0m\u001b[0m\n\u001b[0m\u001b[1;32m    918\u001b[0m     \u001b[0;32melif\u001b[0m \u001b[0mmode\u001b[0m \u001b[0;32min\u001b[0m \u001b[0;34m(\u001b[0m\u001b[0;34m'w'\u001b[0m\u001b[0;34m,\u001b[0m \u001b[0;34m'wb'\u001b[0m\u001b[0;34m)\u001b[0m\u001b[0;34m:\u001b[0m\u001b[0;34m\u001b[0m\u001b[0;34m\u001b[0m\u001b[0m\n\u001b[1;32m    919\u001b[0m         \u001b[0;32mreturn\u001b[0m \u001b[0mAifc_write\u001b[0m\u001b[0;34m(\u001b[0m\u001b[0mf\u001b[0m\u001b[0;34m)\u001b[0m\u001b[0;34m\u001b[0m\u001b[0;34m\u001b[0m\u001b[0m\n",
      "\u001b[0;32m~/anaconda3/envs/env_py3.7/lib/python3.7/aifc.py\u001b[0m in \u001b[0;36m__init__\u001b[0;34m(self, f)\u001b[0m\n\u001b[1;32m    356\u001b[0m         \u001b[0;32melse\u001b[0m\u001b[0;34m:\u001b[0m\u001b[0;34m\u001b[0m\u001b[0;34m\u001b[0m\u001b[0m\n\u001b[1;32m    357\u001b[0m             \u001b[0;31m# assume it is an open file object already\u001b[0m\u001b[0;34m\u001b[0m\u001b[0;34m\u001b[0m\u001b[0;34m\u001b[0m\u001b[0m\n\u001b[0;32m--> 358\u001b[0;31m             \u001b[0mself\u001b[0m\u001b[0;34m.\u001b[0m\u001b[0minitfp\u001b[0m\u001b[0;34m(\u001b[0m\u001b[0mf\u001b[0m\u001b[0;34m)\u001b[0m\u001b[0;34m\u001b[0m\u001b[0;34m\u001b[0m\u001b[0m\n\u001b[0m\u001b[1;32m    359\u001b[0m \u001b[0;34m\u001b[0m\u001b[0m\n\u001b[1;32m    360\u001b[0m     \u001b[0;32mdef\u001b[0m \u001b[0m__enter__\u001b[0m\u001b[0;34m(\u001b[0m\u001b[0mself\u001b[0m\u001b[0;34m)\u001b[0m\u001b[0;34m:\u001b[0m\u001b[0;34m\u001b[0m\u001b[0;34m\u001b[0m\u001b[0m\n",
      "\u001b[0;32m~/anaconda3/envs/env_py3.7/lib/python3.7/aifc.py\u001b[0m in \u001b[0;36minitfp\u001b[0;34m(self, file)\u001b[0m\n\u001b[1;32m    312\u001b[0m         \u001b[0mself\u001b[0m\u001b[0;34m.\u001b[0m\u001b[0m_soundpos\u001b[0m \u001b[0;34m=\u001b[0m \u001b[0;36m0\u001b[0m\u001b[0;34m\u001b[0m\u001b[0;34m\u001b[0m\u001b[0m\n\u001b[1;32m    313\u001b[0m         \u001b[0mself\u001b[0m\u001b[0;34m.\u001b[0m\u001b[0m_file\u001b[0m \u001b[0;34m=\u001b[0m \u001b[0mfile\u001b[0m\u001b[0;34m\u001b[0m\u001b[0;34m\u001b[0m\u001b[0m\n\u001b[0;32m--> 314\u001b[0;31m         \u001b[0mchunk\u001b[0m \u001b[0;34m=\u001b[0m \u001b[0mChunk\u001b[0m\u001b[0;34m(\u001b[0m\u001b[0mfile\u001b[0m\u001b[0;34m)\u001b[0m\u001b[0;34m\u001b[0m\u001b[0;34m\u001b[0m\u001b[0m\n\u001b[0m\u001b[1;32m    315\u001b[0m         \u001b[0;32mif\u001b[0m \u001b[0mchunk\u001b[0m\u001b[0;34m.\u001b[0m\u001b[0mgetname\u001b[0m\u001b[0;34m(\u001b[0m\u001b[0;34m)\u001b[0m \u001b[0;34m!=\u001b[0m \u001b[0;34mb'FORM'\u001b[0m\u001b[0;34m:\u001b[0m\u001b[0;34m\u001b[0m\u001b[0;34m\u001b[0m\u001b[0m\n\u001b[1;32m    316\u001b[0m             \u001b[0;32mraise\u001b[0m \u001b[0mError\u001b[0m\u001b[0;34m(\u001b[0m\u001b[0;34m'file does not start with FORM id'\u001b[0m\u001b[0;34m)\u001b[0m\u001b[0;34m\u001b[0m\u001b[0;34m\u001b[0m\u001b[0m\n",
      "\u001b[0;32m~/anaconda3/envs/env_py3.7/lib/python3.7/chunk.py\u001b[0m in \u001b[0;36m__init__\u001b[0;34m(self, file, align, bigendian, inclheader)\u001b[0m\n\u001b[1;32m     61\u001b[0m         \u001b[0mself\u001b[0m\u001b[0;34m.\u001b[0m\u001b[0mchunkname\u001b[0m \u001b[0;34m=\u001b[0m \u001b[0mfile\u001b[0m\u001b[0;34m.\u001b[0m\u001b[0mread\u001b[0m\u001b[0;34m(\u001b[0m\u001b[0;36m4\u001b[0m\u001b[0;34m)\u001b[0m\u001b[0;34m\u001b[0m\u001b[0;34m\u001b[0m\u001b[0m\n\u001b[1;32m     62\u001b[0m         \u001b[0;32mif\u001b[0m \u001b[0mlen\u001b[0m\u001b[0;34m(\u001b[0m\u001b[0mself\u001b[0m\u001b[0;34m.\u001b[0m\u001b[0mchunkname\u001b[0m\u001b[0;34m)\u001b[0m \u001b[0;34m<\u001b[0m \u001b[0;36m4\u001b[0m\u001b[0;34m:\u001b[0m\u001b[0;34m\u001b[0m\u001b[0;34m\u001b[0m\u001b[0m\n\u001b[0;32m---> 63\u001b[0;31m             \u001b[0;32mraise\u001b[0m \u001b[0mEOFError\u001b[0m\u001b[0;34m\u001b[0m\u001b[0;34m\u001b[0m\u001b[0m\n\u001b[0m\u001b[1;32m     64\u001b[0m         \u001b[0;32mtry\u001b[0m\u001b[0;34m:\u001b[0m\u001b[0;34m\u001b[0m\u001b[0;34m\u001b[0m\u001b[0m\n\u001b[1;32m     65\u001b[0m             \u001b[0mself\u001b[0m\u001b[0;34m.\u001b[0m\u001b[0mchunksize\u001b[0m \u001b[0;34m=\u001b[0m \u001b[0mstruct\u001b[0m\u001b[0;34m.\u001b[0m\u001b[0munpack_from\u001b[0m\u001b[0;34m(\u001b[0m\u001b[0mstrflag\u001b[0m\u001b[0;34m+\u001b[0m\u001b[0;34m'L'\u001b[0m\u001b[0;34m,\u001b[0m \u001b[0mfile\u001b[0m\u001b[0;34m.\u001b[0m\u001b[0mread\u001b[0m\u001b[0;34m(\u001b[0m\u001b[0;36m4\u001b[0m\u001b[0;34m)\u001b[0m\u001b[0;34m)\u001b[0m\u001b[0;34m[\u001b[0m\u001b[0;36m0\u001b[0m\u001b[0;34m]\u001b[0m\u001b[0;34m\u001b[0m\u001b[0;34m\u001b[0m\u001b[0m\n",
      "\u001b[0;31mEOFError\u001b[0m: "
     ]
    }
   ],
   "source": [
    "total_duration = 0\n",
    "data = {\n",
    "    'dev.tsv':(dev_df, {'path':[], 'duration':[]}),\n",
    "    'test.tsv':(test_df, {'path':[], 'duration':[]}),\n",
    "    'train.tsv':(train_df, {'path':[], 'duration':[]}),\n",
    "    'validated.tsv':(validated_df, {'path':[], 'duration':[]})\n",
    "}\n",
    "for file_name, (df, data) in data.items():\n",
    "    print('file_name', file_name, flush=True)\n",
    "    total_duration = 0\n",
    "    for path in df.path:\n",
    "        duration = librosa.get_duration(filename='{}/clips/{}'.format(base_path,path))\n",
    "        total_duration += duration\n",
    "        data['path'].append(path)\n",
    "        data['duration'].append(duration)\n",
    "    print('{} duration : {}'.format(file_name[:-4], total_duration), flush=True)\n",
    "    df.merge(pd.DataFrame(data), on='path', how='inner').to_csv('./out_{}.csv'.format(file_name[:-4]), index=False)"
   ]
  },
  {
   "cell_type": "code",
   "execution_count": 20,
   "metadata": {},
   "outputs": [
    {
     "data": {
      "text/plain": [
       "583104.4999999955"
      ]
     },
     "execution_count": 20,
     "metadata": {},
     "output_type": "execute_result"
    }
   ],
   "source": [
    "total_duration"
   ]
  },
  {
   "cell_type": "code",
   "execution_count": 25,
   "metadata": {},
   "outputs": [
    {
     "data": {
      "text/plain": [
       "137190"
      ]
     },
     "execution_count": 25,
     "metadata": {},
     "output_type": "execute_result"
    }
   ],
   "source": [
    "len(data['path'])"
   ]
  },
  {
   "cell_type": "code",
   "execution_count": 24,
   "metadata": {},
   "outputs": [
    {
     "data": {
      "text/plain": [
       "298721"
      ]
     },
     "execution_count": 24,
     "metadata": {},
     "output_type": "execute_result"
    }
   ],
   "source": [
    "paths = df.path.tolist()\n",
    "len(paths)"
   ]
  },
  {
   "cell_type": "code",
   "execution_count": 27,
   "metadata": {},
   "outputs": [
    {
     "data": {
      "text/plain": [
       "'validated.tsv'"
      ]
     },
     "execution_count": 27,
     "metadata": {},
     "output_type": "execute_result"
    }
   ],
   "source": [
    "file_name"
   ]
  },
  {
   "cell_type": "code",
   "execution_count": 29,
   "metadata": {},
   "outputs": [
    {
     "name": "stdout",
     "output_type": "stream",
     "text": [
      "continue file_name validated.tsv\n",
      "error on index 0\n",
      "error on index 1\n",
      "error on index 2\n",
      "validated duration : 1224209.0999999186\n"
     ]
    }
   ],
   "source": [
    "print('continue file_name', file_name, flush=True)\n",
    "for idx, path in enumerate(paths[137190:]):\n",
    "    try:\n",
    "        duration = librosa.get_duration(filename='{}/clips/{}'.format(base_path,path))\n",
    "        total_duration += duration\n",
    "        data['path'].append(path)\n",
    "        data['duration'].append(duration)\n",
    "    except:\n",
    "        print('error on index {}'.format(idx))\n",
    "print('{} duration : {}'.format(file_name[:-4], total_duration), flush=True)\n",
    "df.merge(pd.DataFrame(data), on='path', how='inner').to_csv('./out_{}.csv'.format(file_name[:-4]), index=False)"
   ]
  },
  {
   "cell_type": "code",
   "execution_count": 30,
   "metadata": {},
   "outputs": [
    {
     "data": {
      "text/plain": [
       "(298718, 10)"
      ]
     },
     "execution_count": 30,
     "metadata": {},
     "output_type": "execute_result"
    }
   ],
   "source": [
    "df.merge(pd.DataFrame(data), on='path', how='inner').shape"
   ]
  },
  {
   "cell_type": "code",
   "execution_count": 31,
   "metadata": {},
   "outputs": [
    {
     "name": "stdout",
     "output_type": "stream",
     "text": [
      "validated duration : 1224209.0999999186\n"
     ]
    }
   ],
   "source": [
    "print('{} duration : {}'.format(file_name[:-4], total_duration), flush=True)"
   ]
  },
  {
   "cell_type": "code",
   "execution_count": 32,
   "metadata": {},
   "outputs": [],
   "source": [
    "validated_df = df.merge(pd.DataFrame(data), on='path', how='inner')"
   ]
  },
  {
   "cell_type": "code",
   "execution_count": 44,
   "metadata": {},
   "outputs": [
    {
     "data": {
      "text/html": [
       "<div>\n",
       "<style scoped>\n",
       "    .dataframe tbody tr th:only-of-type {\n",
       "        vertical-align: middle;\n",
       "    }\n",
       "\n",
       "    .dataframe tbody tr th {\n",
       "        vertical-align: top;\n",
       "    }\n",
       "\n",
       "    .dataframe thead th {\n",
       "        text-align: right;\n",
       "    }\n",
       "</style>\n",
       "<table border=\"1\" class=\"dataframe\">\n",
       "  <thead>\n",
       "    <tr style=\"text-align: right;\">\n",
       "      <th></th>\n",
       "      <th>accent</th>\n",
       "      <th>gender</th>\n",
       "      <th>age</th>\n",
       "      <th>duration</th>\n",
       "      <th>count</th>\n",
       "    </tr>\n",
       "  </thead>\n",
       "  <tbody>\n",
       "    <tr>\n",
       "      <th>0</th>\n",
       "      <td>african</td>\n",
       "      <td>female</td>\n",
       "      <td>fifties</td>\n",
       "      <td>506.7</td>\n",
       "      <td>88</td>\n",
       "    </tr>\n",
       "    <tr>\n",
       "      <th>1</th>\n",
       "      <td>african</td>\n",
       "      <td>female</td>\n",
       "      <td>fourties</td>\n",
       "      <td>202.4</td>\n",
       "      <td>41</td>\n",
       "    </tr>\n",
       "    <tr>\n",
       "      <th>2</th>\n",
       "      <td>african</td>\n",
       "      <td>female</td>\n",
       "      <td>sixties</td>\n",
       "      <td>832.9</td>\n",
       "      <td>183</td>\n",
       "    </tr>\n",
       "    <tr>\n",
       "      <th>3</th>\n",
       "      <td>african</td>\n",
       "      <td>female</td>\n",
       "      <td>teens</td>\n",
       "      <td>164.3</td>\n",
       "      <td>47</td>\n",
       "    </tr>\n",
       "    <tr>\n",
       "      <th>4</th>\n",
       "      <td>african</td>\n",
       "      <td>female</td>\n",
       "      <td>thirties</td>\n",
       "      <td>1821.3</td>\n",
       "      <td>416</td>\n",
       "    </tr>\n",
       "  </tbody>\n",
       "</table>\n",
       "</div>"
      ],
      "text/plain": [
       "    accent  gender       age  duration  count\n",
       "0  african  female   fifties     506.7     88\n",
       "1  african  female  fourties     202.4     41\n",
       "2  african  female   sixties     832.9    183\n",
       "3  african  female     teens     164.3     47\n",
       "4  african  female  thirties    1821.3    416"
      ]
     },
     "execution_count": 44,
     "metadata": {},
     "output_type": "execute_result"
    }
   ],
   "source": [
    "stats_df = validated_df.groupby(['accent','gender','age']).agg({'duration':'sum','path':'count'}).reset_index()\n",
    "stats_df.columns = ['accent','gender','age','duration','count']\n",
    "stats_df.head()"
   ]
  },
  {
   "cell_type": "code",
   "execution_count": 45,
   "metadata": {},
   "outputs": [],
   "source": [
    "stats_df.to_csv('statistics.csv', index=False)"
   ]
  },
  {
   "cell_type": "markdown",
   "metadata": {},
   "source": [
    "# Insight\n",
    "- There are 780 total validated hours based on Mozilla (https://voice.mozilla.org/en/datasets)\n",
    "- Only 46.3% of the validated data contains demography information, which is around 350 hours\n",
    "- After filtering empty demography data, there are only less than 2 hours test data, 5 hours dev data, and 62 hours train data\n",
    "| dataset | # data | duration (hr) | # w/ demo | duration w/ demo (hr) |\n",
    "|------|------|------|------|------|\n",
    "| train | 63330 | - | 43922 | 62 |\n",
    "| dev | 13178 | - | 3619 | 5.24 |\n",
    "| test | 13178 | - | 1277 | 1.85 |\n",
    "| other | 173800 | ±210 | - | - |\n",
    "| invalidated | 78904 | ±90 | - | - |\n",
    "| validated | 644119 | 780 | 298721 | 340 |"
   ]
  },
  {
   "cell_type": "code",
   "execution_count": null,
   "metadata": {},
   "outputs": [],
   "source": []
  }
 ],
 "metadata": {
  "kernelspec": {
   "display_name": "Python3.7 (env_py3.7)",
   "language": "python",
   "name": "env_py3.7"
  },
  "language_info": {
   "codemirror_mode": {
    "name": "ipython",
    "version": 3
   },
   "file_extension": ".py",
   "mimetype": "text/x-python",
   "name": "python",
   "nbconvert_exporter": "python",
   "pygments_lexer": "ipython3",
   "version": "3.7.5"
  }
 },
 "nbformat": 4,
 "nbformat_minor": 4
}
